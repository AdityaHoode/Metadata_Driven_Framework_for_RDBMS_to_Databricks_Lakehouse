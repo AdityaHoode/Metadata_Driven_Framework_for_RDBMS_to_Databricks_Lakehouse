{
 "cells": [
  {
   "cell_type": "code",
   "execution_count": 0,
   "metadata": {
    "application/vnd.databricks.v1+cell": {
     "cellMetadata": {
      "byteLimit": 2048000,
      "rowLimit": 10000
     },
     "inputWidgets": {},
     "nuid": "f0e768af-0f7f-4888-9fbb-b8cca7bd628e",
     "showTitle": false,
     "tableResultSettingsMap": {},
     "title": ""
    }
   },
   "outputs": [],
   "source": [
    "%run \"./functions/Functions\""
   ]
  },
  {
   "cell_type": "code",
   "execution_count": 0,
   "metadata": {
    "application/vnd.databricks.v1+cell": {
     "cellMetadata": {
      "byteLimit": 2048000,
      "rowLimit": 10000
     },
     "inputWidgets": {},
     "nuid": "97863151-021c-45d3-8189-8ccdf7ae268b",
     "showTitle": false,
     "tableResultSettingsMap": {},
     "title": ""
    }
   },
   "outputs": [],
   "source": [
    "catalog_exists(\"mdf1\")"
   ]
  },
  {
   "cell_type": "code",
   "execution_count": 0,
   "metadata": {
    "application/vnd.databricks.v1+cell": {
     "cellMetadata": {
      "byteLimit": 2048000,
      "rowLimit": 10000
     },
     "inputWidgets": {},
     "nuid": "041b8fd9-654d-4406-99ba-537c9f229308",
     "showTitle": false,
     "tableResultSettingsMap": {},
     "title": ""
    }
   },
   "outputs": [],
   "source": [
    "schema_exists(\"mdf1\", \"bronze\")"
   ]
  },
  {
   "cell_type": "code",
   "execution_count": 0,
   "metadata": {
    "application/vnd.databricks.v1+cell": {
     "cellMetadata": {
      "byteLimit": 2048000,
      "rowLimit": 10000
     },
     "inputWidgets": {},
     "nuid": "02d20d6c-10d7-481e-bed8-6d7f3beaf504",
     "showTitle": false,
     "tableResultSettingsMap": {},
     "title": ""
    }
   },
   "outputs": [],
   "source": [
    "%fs\n",
    "ls abfss://mdf1@stgacct14022025.dfs.core.windows.net/"
   ]
  },
  {
   "cell_type": "code",
   "execution_count": 0,
   "metadata": {
    "application/vnd.databricks.v1+cell": {
     "cellMetadata": {
      "byteLimit": 2048000,
      "rowLimit": 10000
     },
     "inputWidgets": {},
     "nuid": "1a60c3bb-4448-4c4e-9e2a-1c7cc6c354f9",
     "showTitle": false,
     "tableResultSettingsMap": {},
     "title": ""
    }
   },
   "outputs": [],
   "source": [
    "spark.read.format(\"csv\").load(\"abfss://mdf1@stgacct14022025.dfs.core.windows.net/sales.csv\").display()"
   ]
  },
  {
   "cell_type": "code",
   "execution_count": 0,
   "metadata": {
    "application/vnd.databricks.v1+cell": {
     "cellMetadata": {
      "byteLimit": 2048000,
      "implicitDf": true,
      "rowLimit": 10000
     },
     "inputWidgets": {},
     "nuid": "f5335d4c-4a68-47c5-9975-f4d6da98905c",
     "showTitle": false,
     "tableResultSettingsMap": {},
     "title": ""
    }
   },
   "outputs": [],
   "source": [
    "%sql\n",
    "select max(timestamp) from mdf1.bronze.customer"
   ]
  },
  {
   "cell_type": "code",
   "execution_count": 0,
   "metadata": {
    "application/vnd.databricks.v1+cell": {
     "cellMetadata": {
      "byteLimit": 2048000,
      "implicitDf": true,
      "rowLimit": 10000
     },
     "inputWidgets": {},
     "nuid": "0f3c76ab-5fe0-486f-9a95-2312f5f557b4",
     "showTitle": false,
     "tableResultSettingsMap": {},
     "title": ""
    }
   },
   "outputs": [],
   "source": [
    "%sql\n",
    "select count(*) from mdf1.bronze.customer"
   ]
  },
  {
   "cell_type": "code",
   "execution_count": 0,
   "metadata": {
    "application/vnd.databricks.v1+cell": {
     "cellMetadata": {
      "byteLimit": 2048000,
      "implicitDf": true,
      "rowLimit": 10000
     },
     "inputWidgets": {},
     "nuid": "2dc29763-7407-4de7-8d71-7a671affab22",
     "showTitle": false,
     "tableResultSettingsMap": {},
     "title": ""
    }
   },
   "outputs": [],
   "source": [
    "%sql\n",
    "update mdf1.bronze.file_master_config set LP_Timestamp = '1970-01-01 00:00:00'"
   ]
  },
  {
   "cell_type": "code",
   "execution_count": 0,
   "metadata": {
    "application/vnd.databricks.v1+cell": {
     "cellMetadata": {
      "byteLimit": 2048000,
      "implicitDf": true,
      "rowLimit": 10000
     },
     "inputWidgets": {},
     "nuid": "8b7e02d0-f70e-4f06-9903-70f90284dbaa",
     "showTitle": false,
     "tableResultSettingsMap": {},
     "title": ""
    }
   },
   "outputs": [],
   "source": [
    "%sql\n",
    "describe history mdf1.bronze.sales"
   ]
  },
  {
   "cell_type": "code",
   "execution_count": 0,
   "metadata": {
    "application/vnd.databricks.v1+cell": {
     "cellMetadata": {
      "byteLimit": 2048000,
      "implicitDf": true,
      "rowLimit": 10000
     },
     "inputWidgets": {},
     "nuid": "6db71ca8-0691-4005-afbf-a2bb06b16282",
     "showTitle": false,
     "tableResultSettingsMap": {},
     "title": ""
    }
   },
   "outputs": [],
   "source": [
    "%sql\n",
    "select * from mdf1.bronze.sales"
   ]
  },
  {
   "cell_type": "code",
   "execution_count": 0,
   "metadata": {
    "application/vnd.databricks.v1+cell": {
     "cellMetadata": {
      "byteLimit": 2048000,
      "implicitDf": true,
      "rowLimit": 10000
     },
     "inputWidgets": {},
     "nuid": "31b9d83e-baed-4318-8c5c-eff1bb224f18",
     "showTitle": false,
     "tableResultSettingsMap": {},
     "title": ""
    }
   },
   "outputs": [],
   "source": [
    "%sql\n",
    "select distinct timestamp from mdf1.bronze.customer"
   ]
  },
  {
   "cell_type": "code",
   "execution_count": 0,
   "metadata": {
    "application/vnd.databricks.v1+cell": {
     "cellMetadata": {
      "byteLimit": 2048000,
      "implicitDf": true,
      "rowLimit": 10000
     },
     "inputWidgets": {},
     "nuid": "62e6f81a-a18d-475a-8d81-d0db74b97475",
     "showTitle": false,
     "tableResultSettingsMap": {},
     "title": ""
    }
   },
   "outputs": [],
   "source": [
    "%sql\n",
    "\n",
    "CREATE OR REPLACE TABLE mdf3.bronze.streaming_master_config (\n",
    "    StreamingSource STRING,\n",
    "    EH_Namespace STRING,\n",
    "    EH_EventHub STRING,\n",
    "    EH_SharedAccessKeyName STRING,\n",
    "    EH_ConsumerGroup STRING,\n",
    "    Kafka_Server STRING,\n",
    "    Kafka_Topic STRING,\n",
    "    MessageBodySchema STRING,\n",
    "    TargetCatalog STRING,\n",
    "    TargetSchema STRING,\n",
    "    TargetTable STRING,\n",
    "    EnableFlag BOOLEAN\n",
    ");\n",
    "\n",
    "INSERT INTO mdf3.bronze.streaming_master_config (\n",
    "    StreamingSource,\n",
    "    EH_Namespace,\n",
    "    EH_EventHub,\n",
    "    EH_SharedAccessKeyName,\n",
    "    EH_ConsumerGroup,\n",
    "    Kafka_Server,\n",
    "    Kafka_Topic,\n",
    "    MessageBodySchema,\n",
    "    TargetCatalog,\n",
    "    TargetSchema,\n",
    "    TargetTable,\n",
    "    EnableFlag\n",
    ")\n",
    "VALUES (\n",
    "    'EventHub',\n",
    "    'streamingmdf',\n",
    "    'eh1',\n",
    "    'RootManageSharedAccessKey',\n",
    "    'cg1',\n",
    "    NULL,\n",
    "    NULL,\n",
    "    '{\"type\": \"struct\", \"fields\": [{\"name\": \"entryTime\", \"type\": \"string\", \"nullable\": true, \"metadata\": {}}, {\"name\": \"carModel\", \"type\": {\"type\": \"struct\", \"fields\": [{\"name\": \"make\", \"type\": \"string\", \"nullable\": true, \"metadata\": {}}, {\"name\": \"model\", \"type\": \"string\", \"nullable\": true, \"metadata\": {}}, {\"name\": \"vehicleType\", \"type\": \"integer\", \"nullable\": true, \"metadata\": {}}, {\"name\": \"vehicleWeight\", \"type\": \"integer\", \"nullable\": true, \"metadata\": {}}]}, \"nullable\": true, \"metadata\": {}}, {\"name\": \"state\", \"type\": \"string\", \"nullable\": true, \"metadata\": {}}, {\"name\": \"tollAmount\", \"type\": \"integer\", \"nullable\": true, \"metadata\": {}}, {\"name\": \"tag\", \"type\": \"long\", \"nullable\": true, \"metadata\": {}}, {\"name\": \"tollId\", \"type\": \"integer\", \"nullable\": true, \"metadata\": {}}, {\"name\": \"licensePlate\", \"type\": \"string\", \"nullable\": true, \"metadata\": {}}, {\"name\": \"eventProcessedUtcTime\", \"type\": \"string\", \"nullable\": true, \"metadata\": {}}, {\"name\": \"partitionId\", \"type\": \"integer\", \"nullable\": true, \"metadata\": {}}, {\"name\": \"eventEnqueuedUtcTime\", \"type\": \"string\", \"nullable\": true, \"metadata\": {}}]}',\n",
    "    'mdf3',\n",
    "    'bronze',\n",
    "    'VehicleToll',\n",
    "    TRUE\n",
    ");"
   ]
  },
  {
   "cell_type": "code",
   "execution_count": 0,
   "metadata": {
    "application/vnd.databricks.v1+cell": {
     "cellMetadata": {
      "byteLimit": 2048000,
      "implicitDf": true,
      "rowLimit": 10000
     },
     "inputWidgets": {},
     "nuid": "b3b634cd-4ed5-4593-b70f-2bfa49b03867",
     "showTitle": false,
     "tableResultSettingsMap": {},
     "title": ""
    }
   },
   "outputs": [],
   "source": [
    "%sql\n",
    "select * from mdf1.bronze.Customer \n",
    "where TIMESTAMP > '2025-05-08 00:00:00'"
   ]
  },
  {
   "cell_type": "code",
   "execution_count": 0,
   "metadata": {
    "application/vnd.databricks.v1+cell": {
     "cellMetadata": {
      "byteLimit": 2048000,
      "implicitDf": true,
      "rowLimit": 10000
     },
     "inputWidgets": {},
     "nuid": "e9a37f5b-6558-4f84-a30a-4f49fcfa6f73",
     "showTitle": false,
     "tableResultSettingsMap": {},
     "title": ""
    }
   },
   "outputs": [],
   "source": [
    "# %sql\n",
    "# update mdf2.bronze.file_master_config set LPWatermarkValue = '1970-01-01T00:00:00.000+00:00'"
   ]
  },
  {
   "cell_type": "code",
   "execution_count": 0,
   "metadata": {
    "application/vnd.databricks.v1+cell": {
     "cellMetadata": {
      "byteLimit": 2048000,
      "implicitDf": true,
      "rowLimit": 10000
     },
     "inputWidgets": {},
     "nuid": "aadf6a61-c84a-40d1-a354-925ff49a9f9f",
     "showTitle": false,
     "tableResultSettingsMap": {},
     "title": ""
    }
   },
   "outputs": [],
   "source": [
    "%sql\n",
    "select * from mdf2.bronze.sales \n",
    "-- where TIMESTAMP > '2025-05-08 00:00:00'"
   ]
  },
  {
   "cell_type": "code",
   "execution_count": 0,
   "metadata": {
    "application/vnd.databricks.v1+cell": {
     "cellMetadata": {
      "byteLimit": 2048000,
      "implicitDf": true,
      "rowLimit": 10000
     },
     "inputWidgets": {},
     "nuid": "cb50a546-e89e-44f2-aa23-0e6a29138c79",
     "showTitle": false,
     "tableResultSettingsMap": {},
     "title": ""
    }
   },
   "outputs": [],
   "source": [
    "%sql\n",
    "select * from mdf3.bronze.vehicletoll"
   ]
  },
  {
   "cell_type": "code",
   "execution_count": 0,
   "metadata": {
    "application/vnd.databricks.v1+cell": {
     "cellMetadata": {},
     "inputWidgets": {},
     "nuid": "e53be670-2556-4016-8fad-9f888f375bcf",
     "showTitle": false,
     "tableResultSettingsMap": {},
     "title": ""
    }
   },
   "outputs": [],
   "source": []
  }
 ],
 "metadata": {
  "application/vnd.databricks.v1+notebook": {
   "computePreferences": null,
   "dashboards": [],
   "environmentMetadata": {
    "base_environment": "",
    "environment_version": "2"
   },
   "inputWidgetPreferences": null,
   "language": "python",
   "notebookMetadata": {
    "mostRecentlyExecutedCommandWithImplicitDF": {
     "commandId": 7911078535942962,
     "dataframes": [
      "_sqldf"
     ]
    },
    "pythonIndentUnit": 4
   },
   "notebookName": "Misc",
   "widgets": {}
  },
  "language_info": {
   "name": "python"
  }
 },
 "nbformat": 4,
 "nbformat_minor": 0
}
